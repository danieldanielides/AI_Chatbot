{
 "cells": [
  {
   "cell_type": "code",
   "execution_count": 2,
   "id": "5daeadbb-c9fa-4416-9e34-701b2ebdcfce",
   "metadata": {},
   "outputs": [],
   "source": [
    "import os\n",
    "from dotenv import load_dotenv\n",
    "\n",
    "load_dotenv()  # Load .env variables\n",
    "\n",
    "api_key = os.getenv(\"OPENAI_API_KEY\")  # Make sure the key name matches .env\n",
    "# print(\"API Key:\", api_key)  # Should print your actual API key\n",
    "\n"
   ]
  },
  {
   "cell_type": "code",
   "execution_count": 29,
   "id": "367dd222",
   "metadata": {},
   "outputs": [
    {
     "data": {
      "text/plain": [
       "True"
      ]
     },
     "execution_count": 29,
     "metadata": {},
     "output_type": "execute_result"
    }
   ],
   "source": [
    "from dotenv import load_dotenv\n",
    "load_dotenv()"
   ]
  },
  {
   "cell_type": "code",
   "execution_count": 32,
   "id": "369f2d5f",
   "metadata": {},
   "outputs": [],
   "source": [
    "from langchain_openai import ChatOpenAI\n",
    "\n",
    "model = ChatOpenAI(model=\"gpt-4o-mini\")"
   ]
  },
  {
   "cell_type": "code",
   "execution_count": 33,
   "id": "18b0049f",
   "metadata": {},
   "outputs": [
    {
     "data": {
      "text/plain": [
       "AIMessage(content=\"Yes, I'm here! How can I assist you today?\", additional_kwargs={'refusal': None}, response_metadata={'token_usage': {'completion_tokens': 13, 'prompt_tokens': 13, 'total_tokens': 26, 'completion_tokens_details': {'accepted_prediction_tokens': 0, 'audio_tokens': 0, 'reasoning_tokens': 0, 'rejected_prediction_tokens': 0}, 'prompt_tokens_details': {'audio_tokens': 0, 'cached_tokens': 0}}, 'model_name': 'gpt-4o-mini-2024-07-18', 'system_fingerprint': 'fp_72ed7ab54c', 'finish_reason': 'stop', 'logprobs': None}, id='run-b4ac960b-138a-4ea4-8c96-0572db4c1ca0-0', usage_metadata={'input_tokens': 13, 'output_tokens': 13, 'total_tokens': 26, 'input_token_details': {'audio': 0, 'cache_read': 0}, 'output_token_details': {'audio': 0, 'reasoning': 0}})"
      ]
     },
     "execution_count": 33,
     "metadata": {},
     "output_type": "execute_result"
    }
   ],
   "source": [
    "model.invoke(\"Is there anybody in there?\")  # Should return a response"
   ]
  },
  {
   "cell_type": "code",
   "execution_count": 34,
   "id": "3af4ac54",
   "metadata": {},
   "outputs": [
    {
     "data": {
      "text/plain": [
       "AIMessage(content='Nice to meet you, Daniel! How can I assist you today?', additional_kwargs={'refusal': None}, response_metadata={'token_usage': {'completion_tokens': 15, 'prompt_tokens': 11, 'total_tokens': 26, 'completion_tokens_details': {'accepted_prediction_tokens': 0, 'audio_tokens': 0, 'reasoning_tokens': 0, 'rejected_prediction_tokens': 0}, 'prompt_tokens_details': {'audio_tokens': 0, 'cached_tokens': 0}}, 'model_name': 'gpt-4o-mini-2024-07-18', 'system_fingerprint': 'fp_72ed7ab54c', 'finish_reason': 'stop', 'logprobs': None}, id='run-46453dbb-76b5-41a1-ba2a-06e98c5041ab-0', usage_metadata={'input_tokens': 11, 'output_tokens': 15, 'total_tokens': 26, 'input_token_details': {'audio': 0, 'cache_read': 0}, 'output_token_details': {'audio': 0, 'reasoning': 0}})"
      ]
     },
     "execution_count": 34,
     "metadata": {},
     "output_type": "execute_result"
    }
   ],
   "source": [
    "model.invoke(\"My name is Daniel\")  # Should return a response\n"
   ]
  },
  {
   "cell_type": "code",
   "execution_count": 35,
   "id": "b4cc6c16",
   "metadata": {},
   "outputs": [
    {
     "data": {
      "text/plain": [
       "AIMessage(content=\"I don't have access to personal information about individuals unless it has been shared with me in the course of our conversation. Therefore, I don't know your name. How can I assist you today?\", additional_kwargs={'refusal': None}, response_metadata={'token_usage': {'completion_tokens': 39, 'prompt_tokens': 12, 'total_tokens': 51, 'completion_tokens_details': {'accepted_prediction_tokens': 0, 'audio_tokens': 0, 'reasoning_tokens': 0, 'rejected_prediction_tokens': 0}, 'prompt_tokens_details': {'audio_tokens': 0, 'cached_tokens': 0}}, 'model_name': 'gpt-4o-mini-2024-07-18', 'system_fingerprint': 'fp_72ed7ab54c', 'finish_reason': 'stop', 'logprobs': None}, id='run-b34183be-f686-400d-a6f0-fcd5ea23199c-0', usage_metadata={'input_tokens': 12, 'output_tokens': 39, 'total_tokens': 51, 'input_token_details': {'audio': 0, 'cache_read': 0}, 'output_token_details': {'audio': 0, 'reasoning': 0}})"
      ]
     },
     "execution_count": 35,
     "metadata": {},
     "output_type": "execute_result"
    }
   ],
   "source": [
    "model.invoke(\"What is my name?\")  # Should return a response"
   ]
  },
  {
   "cell_type": "code",
   "execution_count": 38,
   "id": "3ed4186f",
   "metadata": {},
   "outputs": [
    {
     "data": {
      "text/plain": [
       "AIMessage(content='Your name is Daniel.', additional_kwargs={'refusal': None}, response_metadata={'token_usage': {'completion_tokens': 6, 'prompt_tokens': 19, 'total_tokens': 25, 'completion_tokens_details': {'accepted_prediction_tokens': 0, 'audio_tokens': 0, 'reasoning_tokens': 0, 'rejected_prediction_tokens': 0}, 'prompt_tokens_details': {'audio_tokens': 0, 'cached_tokens': 0}}, 'model_name': 'gpt-4o-mini-2024-07-18', 'system_fingerprint': 'fp_72ed7ab54c', 'finish_reason': 'stop', 'logprobs': None}, id='run-9e5e20ee-d3b5-48a5-975a-1400ea8e28ab-0', usage_metadata={'input_tokens': 19, 'output_tokens': 6, 'total_tokens': 25, 'input_token_details': {'audio': 0, 'cache_read': 0}, 'output_token_details': {'audio': 0, 'reasoning': 0}})"
      ]
     },
     "execution_count": 38,
     "metadata": {},
     "output_type": "execute_result"
    }
   ],
   "source": [
    "model.invoke([\"My name is Daniel\", \"What is my name\"])  # Should return a response"
   ]
  },
  {
   "cell_type": "code",
   "execution_count": 41,
   "id": "fc3e418d",
   "metadata": {},
   "outputs": [],
   "source": [
    "from langgraph.graph import StateGraph, MessagesState, START"
   ]
  },
  {
   "cell_type": "code",
   "execution_count": 42,
   "id": "cdbf8b24",
   "metadata": {},
   "outputs": [],
   "source": [
    "workflow = StateGraph(MessagesState)"
   ]
  },
  {
   "cell_type": "code",
   "execution_count": 44,
   "id": "3219b338",
   "metadata": {},
   "outputs": [],
   "source": [
    "def call_model(state: MessagesState):\n",
    "    updated_messages = model.invoke(state[\"messages\"])\n",
    "    return {\"messages\": updated_messages}"
   ]
  },
  {
   "cell_type": "code",
   "execution_count": 46,
   "id": "5f0eb6a8",
   "metadata": {},
   "outputs": [
    {
     "data": {
      "text/plain": [
       "<langgraph.graph.state.StateGraph at 0x2ddd8bf4ec0>"
      ]
     },
     "execution_count": 46,
     "metadata": {},
     "output_type": "execute_result"
    }
   ],
   "source": [
    "workflow.add_node(\"model_node\", call_model)"
   ]
  },
  {
   "cell_type": "code",
   "execution_count": 47,
   "id": "f6e1e889",
   "metadata": {},
   "outputs": [
    {
     "data": {
      "text/plain": [
       "<langgraph.graph.state.StateGraph at 0x2ddd8bf4ec0>"
      ]
     },
     "execution_count": 47,
     "metadata": {},
     "output_type": "execute_result"
    }
   ],
   "source": [
    "workflow.add_edge(START, \"model_node\")"
   ]
  },
  {
   "cell_type": "code",
   "execution_count": 48,
   "id": "9b610dc9",
   "metadata": {},
   "outputs": [],
   "source": [
    "from langgraph.checkpoint.memory import MemorySaver"
   ]
  },
  {
   "cell_type": "code",
   "execution_count": 49,
   "id": "8889381d",
   "metadata": {},
   "outputs": [],
   "source": [
    "memory = MemorySaver()"
   ]
  },
  {
   "cell_type": "code",
   "execution_count": 50,
   "id": "bf389470",
   "metadata": {},
   "outputs": [],
   "source": [
    "app = workflow.compile(memory)"
   ]
  },
  {
   "cell_type": "code",
   "execution_count": 51,
   "id": "c2eddc1a",
   "metadata": {},
   "outputs": [
    {
     "data": {
      "image/png": "[encoded data removed]",
      "text/plain": [
       "<IPython.core.display.Image object>"
      ]
     },
     "execution_count": 51,
     "metadata": {},
     "output_type": "execute_result"
    }
   ],
   "source": [
    "from IPython.display import Image\n",
    "Image(app.get_graph().draw_mermaid_png())"
   ]
  },
  {
   "cell_type": "code",
   "execution_count": 56,
   "id": "46657b95",
   "metadata": {},
   "outputs": [],
   "source": [
    "# imports\n",
    "from dotenv import load_dotenv\n",
    "from langchain_openai import ChatOpenAI\n",
    "from langgraph.graph import StateGraph, MessagesState, START\n",
    "from langgraph.checkpoint.memory import MemorySaver\n",
    "\n",
    "load_dotenv()\n",
    "\n",
    "model = ChatOpenAI(model=\"gpt-4o-mini\")   \n",
    "                   \n",
    "def call_model(state: MessagesState):\n",
    "    updated_messages = model.invoke(state[\"messages\"])\n",
    "    return {\"messages\": updated_messages}\n",
    "\n",
    "workflow = StateGraph(MessagesState)\n",
    "workflow.add_node(\"model_node\", call_model)\n",
    "workflow.add_edge(START, \"model_node\")\n",
    "\n",
    "memory = MemorySaver()\n",
    "app = workflow.compile(memory)"
   ]
  },
  {
   "cell_type": "code",
   "execution_count": 64,
   "id": "977d8a06",
   "metadata": {},
   "outputs": [
    {
     "data": {
      "text/plain": [
       "{'messages': [HumanMessage(content='My name is Daniel.', additional_kwargs={}, response_metadata={}, id='ac9c67d3-eace-47f7-a99a-744bdd320ae6'),\n",
       "  AIMessage(content='Nice to meet you, Daniel! How can I assist you today?', additional_kwargs={'refusal': None}, response_metadata={'token_usage': {'completion_tokens': 15, 'prompt_tokens': 12, 'total_tokens': 27, 'completion_tokens_details': {'accepted_prediction_tokens': 0, 'audio_tokens': 0, 'reasoning_tokens': 0, 'rejected_prediction_tokens': 0}, 'prompt_tokens_details': {'audio_tokens': 0, 'cached_tokens': 0}}, 'model_name': 'gpt-4o-mini-2024-07-18', 'system_fingerprint': 'fp_72ed7ab54c', 'finish_reason': 'stop', 'logprobs': None}, id='run-7a550bcb-a33d-4872-9e06-aaca6913d4ff-0', usage_metadata={'input_tokens': 12, 'output_tokens': 15, 'total_tokens': 27, 'input_token_details': {'audio': 0, 'cache_read': 0}, 'output_token_details': {'audio': 0, 'reasoning': 0}}),\n",
       "  HumanMessage(content='Is  anybody in there?', additional_kwargs={}, response_metadata={}, id='5c9b5d74-60a3-4a1a-8683-403e27138cd0'),\n",
       "  AIMessage(content=\"Yes, I'm here! What would you like to talk about?\", additional_kwargs={'refusal': None}, response_metadata={'token_usage': {'completion_tokens': 14, 'prompt_tokens': 40, 'total_tokens': 54, 'completion_tokens_details': {'accepted_prediction_tokens': 0, 'audio_tokens': 0, 'reasoning_tokens': 0, 'rejected_prediction_tokens': 0}, 'prompt_tokens_details': {'audio_tokens': 0, 'cached_tokens': 0}}, 'model_name': 'gpt-4o-mini-2024-07-18', 'system_fingerprint': 'fp_72ed7ab54c', 'finish_reason': 'stop', 'logprobs': None}, id='run-61842504-68ce-420d-864a-d7a4933fa030-0', usage_metadata={'input_tokens': 40, 'output_tokens': 14, 'total_tokens': 54, 'input_token_details': {'audio': 0, 'cache_read': 0}, 'output_token_details': {'audio': 0, 'reasoning': 0}}),\n",
       "  HumanMessage(content='My name is Daniel', additional_kwargs={}, response_metadata={}, id='026086ed-71da-4e67-a5f8-cee9ee0be668'),\n",
       "  AIMessage(content='Hi again, Daniel! How can I help you today?', additional_kwargs={'refusal': None}, response_metadata={'token_usage': {'completion_tokens': 13, 'prompt_tokens': 65, 'total_tokens': 78, 'completion_tokens_details': {'accepted_prediction_tokens': 0, 'audio_tokens': 0, 'reasoning_tokens': 0, 'rejected_prediction_tokens': 0}, 'prompt_tokens_details': {'audio_tokens': 0, 'cached_tokens': 0}}, 'model_name': 'gpt-4o-mini-2024-07-18', 'system_fingerprint': 'fp_bd83329f63', 'finish_reason': 'stop', 'logprobs': None}, id='run-84a3625c-ff79-4fc2-afb6-f7cf9ec90ff1-0', usage_metadata={'input_tokens': 65, 'output_tokens': 13, 'total_tokens': 78, 'input_token_details': {'audio': 0, 'cache_read': 0}, 'output_token_details': {'audio': 0, 'reasoning': 0}}),\n",
       "  HumanMessage(content='My name is Daniel.', additional_kwargs={}, response_metadata={}, id='7931e080-18b8-4269-86f3-3d7fd8c3be85'),\n",
       "  AIMessage(content=\"Hello again, Daniel! Is there something specific you'd like to discuss or ask about?\", additional_kwargs={'refusal': None}, response_metadata={'token_usage': {'completion_tokens': 18, 'prompt_tokens': 90, 'total_tokens': 108, 'completion_tokens_details': {'accepted_prediction_tokens': 0, 'audio_tokens': 0, 'reasoning_tokens': 0, 'rejected_prediction_tokens': 0}, 'prompt_tokens_details': {'audio_tokens': 0, 'cached_tokens': 0}}, 'model_name': 'gpt-4o-mini-2024-07-18', 'system_fingerprint': 'fp_bd83329f63', 'finish_reason': 'stop', 'logprobs': None}, id='run-2428a992-cf7f-4993-8480-8f745e60fbb4-0', usage_metadata={'input_tokens': 90, 'output_tokens': 18, 'total_tokens': 108, 'input_token_details': {'audio': 0, 'cache_read': 0}, 'output_token_details': {'audio': 0, 'reasoning': 0}})]}"
      ]
     },
     "execution_count": 64,
     "metadata": {},
     "output_type": "execute_result"
    }
   ],
   "source": [
    "chat_one = {\"configurable\": {\"thread_id\": 1}}\n",
    "app.invoke({\"messages\": \"My name is Daniel.\"}, chat_one)  # Should return a response\n"
   ]
  },
  {
   "cell_type": "code",
   "execution_count": 65,
   "id": "3170290a",
   "metadata": {},
   "outputs": [
    {
     "data": {
      "text/plain": [
       "{'messages': [HumanMessage(content='My name is Daniel.', additional_kwargs={}, response_metadata={}, id='ac9c67d3-eace-47f7-a99a-744bdd320ae6'),\n",
       "  AIMessage(content='Nice to meet you, Daniel! How can I assist you today?', additional_kwargs={'refusal': None}, response_metadata={'token_usage': {'completion_tokens': 15, 'prompt_tokens': 12, 'total_tokens': 27, 'completion_tokens_details': {'accepted_prediction_tokens': 0, 'audio_tokens': 0, 'reasoning_tokens': 0, 'rejected_prediction_tokens': 0}, 'prompt_tokens_details': {'audio_tokens': 0, 'cached_tokens': 0}}, 'model_name': 'gpt-4o-mini-2024-07-18', 'system_fingerprint': 'fp_72ed7ab54c', 'finish_reason': 'stop', 'logprobs': None}, id='run-7a550bcb-a33d-4872-9e06-aaca6913d4ff-0', usage_metadata={'input_tokens': 12, 'output_tokens': 15, 'total_tokens': 27, 'input_token_details': {'audio': 0, 'cache_read': 0}, 'output_token_details': {'audio': 0, 'reasoning': 0}}),\n",
       "  HumanMessage(content='Is  anybody in there?', additional_kwargs={}, response_metadata={}, id='5c9b5d74-60a3-4a1a-8683-403e27138cd0'),\n",
       "  AIMessage(content=\"Yes, I'm here! What would you like to talk about?\", additional_kwargs={'refusal': None}, response_metadata={'token_usage': {'completion_tokens': 14, 'prompt_tokens': 40, 'total_tokens': 54, 'completion_tokens_details': {'accepted_prediction_tokens': 0, 'audio_tokens': 0, 'reasoning_tokens': 0, 'rejected_prediction_tokens': 0}, 'prompt_tokens_details': {'audio_tokens': 0, 'cached_tokens': 0}}, 'model_name': 'gpt-4o-mini-2024-07-18', 'system_fingerprint': 'fp_72ed7ab54c', 'finish_reason': 'stop', 'logprobs': None}, id='run-61842504-68ce-420d-864a-d7a4933fa030-0', usage_metadata={'input_tokens': 40, 'output_tokens': 14, 'total_tokens': 54, 'input_token_details': {'audio': 0, 'cache_read': 0}, 'output_token_details': {'audio': 0, 'reasoning': 0}}),\n",
       "  HumanMessage(content='My name is Daniel', additional_kwargs={}, response_metadata={}, id='026086ed-71da-4e67-a5f8-cee9ee0be668'),\n",
       "  AIMessage(content='Hi again, Daniel! How can I help you today?', additional_kwargs={'refusal': None}, response_metadata={'token_usage': {'completion_tokens': 13, 'prompt_tokens': 65, 'total_tokens': 78, 'completion_tokens_details': {'accepted_prediction_tokens': 0, 'audio_tokens': 0, 'reasoning_tokens': 0, 'rejected_prediction_tokens': 0}, 'prompt_tokens_details': {'audio_tokens': 0, 'cached_tokens': 0}}, 'model_name': 'gpt-4o-mini-2024-07-18', 'system_fingerprint': 'fp_bd83329f63', 'finish_reason': 'stop', 'logprobs': None}, id='run-84a3625c-ff79-4fc2-afb6-f7cf9ec90ff1-0', usage_metadata={'input_tokens': 65, 'output_tokens': 13, 'total_tokens': 78, 'input_token_details': {'audio': 0, 'cache_read': 0}, 'output_token_details': {'audio': 0, 'reasoning': 0}}),\n",
       "  HumanMessage(content='My name is Daniel.', additional_kwargs={}, response_metadata={}, id='7931e080-18b8-4269-86f3-3d7fd8c3be85'),\n",
       "  AIMessage(content=\"Hello again, Daniel! Is there something specific you'd like to discuss or ask about?\", additional_kwargs={'refusal': None}, response_metadata={'token_usage': {'completion_tokens': 18, 'prompt_tokens': 90, 'total_tokens': 108, 'completion_tokens_details': {'accepted_prediction_tokens': 0, 'audio_tokens': 0, 'reasoning_tokens': 0, 'rejected_prediction_tokens': 0}, 'prompt_tokens_details': {'audio_tokens': 0, 'cached_tokens': 0}}, 'model_name': 'gpt-4o-mini-2024-07-18', 'system_fingerprint': 'fp_bd83329f63', 'finish_reason': 'stop', 'logprobs': None}, id='run-2428a992-cf7f-4993-8480-8f745e60fbb4-0', usage_metadata={'input_tokens': 90, 'output_tokens': 18, 'total_tokens': 108, 'input_token_details': {'audio': 0, 'cache_read': 0}, 'output_token_details': {'audio': 0, 'reasoning': 0}}),\n",
       "  HumanMessage(content='What is my name?', additional_kwargs={}, response_metadata={}, id='f2e875ac-56ea-40a4-a0ed-2a9de09ff4e6'),\n",
       "  AIMessage(content='Your name is Daniel. How can I assist you further?', additional_kwargs={'refusal': None}, response_metadata={'token_usage': {'completion_tokens': 13, 'prompt_tokens': 120, 'total_tokens': 133, 'completion_tokens_details': {'accepted_prediction_tokens': 0, 'audio_tokens': 0, 'reasoning_tokens': 0, 'rejected_prediction_tokens': 0}, 'prompt_tokens_details': {'audio_tokens': 0, 'cached_tokens': 0}}, 'model_name': 'gpt-4o-mini-2024-07-18', 'system_fingerprint': 'fp_72ed7ab54c', 'finish_reason': 'stop', 'logprobs': None}, id='run-a71a6431-9b03-4e1d-a580-f9ef1decdd04-0', usage_metadata={'input_tokens': 120, 'output_tokens': 13, 'total_tokens': 133, 'input_token_details': {'audio': 0, 'cache_read': 0}, 'output_token_details': {'audio': 0, 'reasoning': 0}})]}"
      ]
     },
     "execution_count": 65,
     "metadata": {},
     "output_type": "execute_result"
    }
   ],
   "source": [
    "app.invoke({\"messages\": \"What is my name?\"}, chat_one)  # Should return a response"
   ]
  },
  {
   "cell_type": "code",
   "execution_count": 66,
   "id": "869df07e",
   "metadata": {},
   "outputs": [],
   "source": [
    "output = app.invoke(None, chat_one)  # Should return a response"
   ]
  },
  {
   "cell_type": "code",
   "execution_count": 68,
   "id": "1f11b12f",
   "metadata": {},
   "outputs": [
    {
     "name": "stdout",
     "output_type": "stream",
     "text": [
      "================================\u001b[1m Human Message \u001b[0m=================================\n",
      "\n",
      "My name is Daniel.\n",
      "==================================\u001b[1m Ai Message \u001b[0m==================================\n",
      "\n",
      "Nice to meet you, Daniel! How can I assist you today?\n",
      "================================\u001b[1m Human Message \u001b[0m=================================\n",
      "\n",
      "Is  anybody in there?\n",
      "==================================\u001b[1m Ai Message \u001b[0m==================================\n",
      "\n",
      "Yes, I'm here! What would you like to talk about?\n",
      "================================\u001b[1m Human Message \u001b[0m=================================\n",
      "\n",
      "My name is Daniel\n",
      "==================================\u001b[1m Ai Message \u001b[0m==================================\n",
      "\n",
      "Hi again, Daniel! How can I help you today?\n",
      "================================\u001b[1m Human Message \u001b[0m=================================\n",
      "\n",
      "My name is Daniel.\n",
      "==================================\u001b[1m Ai Message \u001b[0m==================================\n",
      "\n",
      "Hello again, Daniel! Is there something specific you'd like to discuss or ask about?\n",
      "================================\u001b[1m Human Message \u001b[0m=================================\n",
      "\n",
      "What is my name?\n",
      "==================================\u001b[1m Ai Message \u001b[0m==================================\n",
      "\n",
      "Your name is Daniel. How can I assist you further?\n"
     ]
    },
    {
     "data": {
      "text/plain": [
       "[None, None, None, None, None, None, None, None, None, None]"
      ]
     },
     "execution_count": 68,
     "metadata": {},
     "output_type": "execute_result"
    }
   ],
   "source": [
    "[message.pretty_print() for message in output[\"messages\"]]"
   ]
  },
  {
   "cell_type": "code",
   "execution_count": 69,
   "id": "1c33ccd0",
   "metadata": {},
   "outputs": [],
   "source": [
    "chat_two = {\"configurable\": {\"thread_id\": 2}}"
   ]
  },
  {
   "cell_type": "code",
   "execution_count": 72,
   "id": "09a9b63f",
   "metadata": {},
   "outputs": [
    {
     "data": {
      "text/plain": [
       "\"I don't have information about your location or any personal details unless you share them with me. If you tell me the city where you live, I can provide information about it or help with anything related!\""
      ]
     },
     "execution_count": 72,
     "metadata": {},
     "output_type": "execute_result"
    }
   ],
   "source": [
    "app.invoke({\"messages\": \"What is the city where I live?\"}, chat_two)[\"messages\"][-1].content  # Should return a response\n"
   ]
  },
  {
   "cell_type": "code",
   "execution_count": 78,
   "id": "c24cc743",
   "metadata": {},
   "outputs": [],
   "source": [
    "def chatbot(chat_id: int):\n",
    "    config = {\"configurable\": {\"thread_id\": chat_id}}\n",
    "\n",
    "    while True:\n",
    "        user_input = input(\"User:\")\n",
    "\n",
    "        if user_input in [\"exit\", \"quit\"]:\n",
    "            print(\"AI: See you later!\")\n",
    "            break\n",
    "        else:\n",
    "            output = app.invoke({\"messages\": user_input}, config)\n",
    "            print(\"AI:\", output[\"messages\"][-1].content, end=\"\\n\\n\")"
   ]
  },
  {
   "cell_type": "code",
   "execution_count": 81,
   "id": "40d8b13d",
   "metadata": {},
   "outputs": [
    {
     "name": "stdout",
     "output_type": "stream",
     "text": [
      "AI: Your name is Daniel! If there's anything else you'd like to discuss or ask, feel free to let me know.\n",
      "\n",
      "AI: See you later!\n"
     ]
    }
   ],
   "source": [
    "chatbot(3)"
   ]
  },
  {
   "cell_type": "code",
   "execution_count": 82,
   "id": "9fb78dd6",
   "metadata": {},
   "outputs": [
    {
     "name": "stdout",
     "output_type": "stream",
     "text": [
      "AI: ChatGPT is a conversational AI model developed by OpenAI that is designed to understand and generate human-like text based on the input it receives. It is part of the GPT (Generative Pre-trained Transformer) family of models, which use a transformer architecture to process and generate language.\n",
      "\n",
      "ChatGPT can assist users in a variety of tasks, including answering questions, providing explanations, generating creative writing, and engaging in casual conversation. It has been trained on a diverse range of internet text, which allows it to respond on a wide array of topics, although it does not have access to real-time information or personal data about individuals unless shared during the conversation.\n",
      "\n",
      "The model aims to generate coherent and contextually relevant responses, but it may sometimes produce incorrect or nonsensical answers and lacks understanding or beliefs like a human would. User feedback is often used to improve its performance and safety in future updates.\n",
      "\n",
      "AI: It looks like your message may have been sent accidentally, as it's blank. If you have a question or topic you'd like to discuss, please feel free to share!\n",
      "\n",
      "AI: See you later!\n"
     ]
    }
   ],
   "source": [
    "chatbot(4)"
   ]
  },
  {
   "cell_type": "code",
   "execution_count": 86,
   "id": "a28d64ab",
   "metadata": {},
   "outputs": [],
   "source": [
    "def chatbot(chat_id: int):\n",
    "    config = {\"configurable\": {\"thread_id\": chat_id}}\n",
    "\n",
    "    while True:\n",
    "        user_input = input(\"User:\")\n",
    "\n",
    "        if user_input in [\"exit\", \"quit\"]:\n",
    "            print(\"AI: See you later!\")\n",
    "            break\n",
    "        else:\n",
    "            print(\"AI: \", end=\"\")\n",
    "            for chunk, metadata in app.stream({\"messages\": user_input}, config, stream_mode = \"messages\"):\n",
    "                print(chunk.content, end=\"\", flush=True)\n",
    "            print(\"\\n\")"
   ]
  },
  {
   "cell_type": "code",
   "execution_count": 87,
   "id": "e2db8d71",
   "metadata": {},
   "outputs": [
    {
     "name": "stdout",
     "output_type": "stream",
     "text": [
      "AI: ChatGPT is an AI language model developed by OpenAI. It is designed to understand and generate human-like text based on the input it receives. Built on the GPT (Generative Pre-trained Transformer) architecture, ChatGPT is capable of engaging in conversations, answering questions, providing explanations, and assisting with a variety of tasks across numerous topics.\n",
      "\n",
      "The model has been trained on a diverse range of internet text but does not have awareness or access to real-time data or specific documents. Its purpose is not just to provide information but also to assist and interact with users in a conversational manner, making it useful for applications like customer support, content creation, tutoring, and more. However, it also has limitations, including the potential for generating incorrect or nonsensical answers, and it should be used with an understanding of these constraints.\n",
      "\n",
      "AI: Certainly! Here’s a more detailed overview of ChatGPT, including its architecture, capabilities, limitations, and applications:\n",
      "\n",
      "### Architecture\n",
      "\n",
      "1. **Foundation**: ChatGPT is based on the Generative Pre-trained Transformer (GPT) architecture. This architecture uses deep learning techniques, particularly transformers, to process and generate text.\n",
      "\n",
      "2. **Training Process**:\n",
      "   - **Pre-training**: The model is first trained on a large corpus of text from the internet. During this phase, it learns language patterns, grammar, facts about the world, and common knowledge. However, it doesn’t retain knowledge of specific documents or sources.\n",
      "   - **Fine-tuning**: After pre-training, the model undergoes fine-tuning on a narrower dataset with human reviewers providing feedback. This phase helps improve the model's ability to generate contextually relevant and coherent responses.\n",
      "\n",
      "### Capabilities\n",
      "\n",
      "1. **Conversational Abilities**: ChatGPT can engage in dialogue, responding to user inputs in a coherent and contextually appropriate manner.\n",
      "\n",
      "2. **Question Answering**: It can provide information and answer questions across a wide range of topics, including general knowledge, technology, science, culture, and more.\n",
      "\n",
      "3. **Creative Writing**: ChatGPT can generate creative content, such as stories, poems, and essays.\n",
      "\n",
      "4. **Summarization**: It can take longer texts and summarize them into shorter, more digestible forms.\n",
      "\n",
      "5. **Language Translation**: While not specialized for translation, it can provide basic translations for many languages.\n",
      "\n",
      "6. **Task Assistance**: The model can help with tasks like brainstorming ideas, drafting emails, or generating code snippets.\n",
      "\n",
      "### Limitations\n",
      "\n",
      "1. **Accuracy**: ChatGPT can sometimes produce incorrect or misleading information. It doesn’t have real-time access to databases or the internet, so its knowledge is limited to what it was trained on.\n",
      "\n",
      "2. **Context Management**: While it can maintain context over a conversation, it may occasionally lose track, especially in longer exchanges, leading to irrelevant or repetitive responses.\n",
      "\n",
      "3. **Sensitivity to Input**: Small changes in phrasing can lead to different answers. The model’s responses can vary significantly based on how questions are asked.\n",
      "\n",
      "4. **Lack of Understanding**: ChatGPT doesn’t possess true understanding or consciousness. Its responses are based on patterns learned during training rather than comprehension of the subject matter.\n",
      "\n",
      "5. **Ethical Concerns**: The model can inadvertently generate biased, inappropriate, or harmful content, reflecting biases present in its training data. OpenAI has implemented measures to reduce these risks, but they are not completely eliminated.\n",
      "\n",
      "### Applications\n",
      "\n",
      "1. **Customer Support**: ChatGPT can be integrated into customer service platforms to handle common queries and support tasks.\n",
      "\n",
      "2. **Content Creation**: Writers and marketers use it to brainstorm ideas, write drafts, and generate content across various formats.\n",
      "\n",
      "3. **Education and Tutoring**: It can assist students by explaining concepts, providing study materials, or answering homework questions.\n",
      "\n",
      "4. **Programming Help**: Developers use ChatGPT to get coding support, including debugging assistance and code suggestions.\n",
      "\n",
      "5. **Mental Health Support**: Some applications offer a version of ChatGPT for conversational support, though it’s important to note that it is not a substitute for professional help.\n",
      "\n",
      "6. **Entertainment**: It can engage users with games, storytelling, and interactive fiction.\n",
      "\n",
      "Overall, ChatGPT is a versatile tool with numerous applications, but it is essential to use it critically and verify its outputs when necessary.\n",
      "\n",
      "AI: See you later!\n"
     ]
    }
   ],
   "source": [
    "chatbot(5)"
   ]
  }
 ],
 "metadata": {
  "kernelspec": {
   "display_name": "chatbot",
   "language": "python",
   "name": "python3"
  },
  "language_info": {
   "codemirror_mode": {
    "name": "ipython",
    "version": 3
   },
   "file_extension": ".py",
   "mimetype": "text/x-python",
   "name": "python",
   "nbconvert_exporter": "python",
   "pygments_lexer": "ipython3",
   "version": "3.13.1"
  }
 },
 "nbformat": 4,
 "nbformat_minor": 5
}
